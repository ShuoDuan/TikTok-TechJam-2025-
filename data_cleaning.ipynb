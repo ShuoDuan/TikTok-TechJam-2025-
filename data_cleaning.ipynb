{
 "cells": [
  {
   "cell_type": "code",
   "execution_count": 1,
   "id": "546fc433",
   "metadata": {},
   "outputs": [],
   "source": [
    "import pandas as pd\n",
    "import re"
   ]
  },
  {
   "cell_type": "code",
   "execution_count": 2,
   "id": "96c48148",
   "metadata": {},
   "outputs": [],
   "source": [
    "sepet = pd.read_csv(\"sepetcioglu_restaurant.csv\")"
   ]
  },
  {
   "cell_type": "code",
   "execution_count": 3,
   "id": "0e3fdf80",
   "metadata": {},
   "outputs": [
    {
     "name": "stdout",
     "output_type": "stream",
     "text": [
      "\n",
      "Sepet Info:\n",
      "<class 'pandas.core.frame.DataFrame'>\n",
      "RangeIndex: 29 entries, 0 to 28\n",
      "Data columns (total 3 columns):\n",
      " #   Column           Non-Null Count  Dtype \n",
      "---  ------           --------------  ----- \n",
      " 0   photo            29 non-null     object\n",
      " 1   rating           29 non-null     int64 \n",
      " 2   rating_category  29 non-null     object\n",
      "dtypes: int64(1), object(2)\n",
      "memory usage: 828.0+ bytes\n",
      "None\n",
      "                           photo  rating    rating_category\n",
      "0  sepetcioglu_restaurant/09.png       4              taste\n",
      "1  sepetcioglu_restaurant/01.png       5  indoor_atmosphere\n",
      "2  sepetcioglu_restaurant/25.png       2               menu\n",
      "3  sepetcioglu_restaurant/10.png       5              taste\n",
      "4  sepetcioglu_restaurant/02.png       3  indoor_atmosphere\n"
     ]
    }
   ],
   "source": [
    "print(\"\\nSepet Info:\")\n",
    "print(sepet.info())\n",
    "print(sepet.head())"
   ]
  },
  {
   "cell_type": "code",
   "execution_count": 7,
   "id": "ef2cc7e7",
   "metadata": {},
   "outputs": [
    {
     "name": "stdout",
     "output_type": "stream",
     "text": [
      "\n",
      "Missing values for text of reviews, hence invalid dataset.\n"
     ]
    }
   ],
   "source": [
    "print(\"\\nMissing values for text of reviews, hence invalid dataset.\")"
   ]
  },
  {
   "cell_type": "code",
   "execution_count": 8,
   "id": "93e60473",
   "metadata": {},
   "outputs": [
    {
     "name": "stdout",
     "output_type": "stream",
     "text": [
      "Reviews Info:\n",
      "<class 'pandas.core.frame.DataFrame'>\n",
      "RangeIndex: 1100 entries, 0 to 1099\n",
      "Data columns (total 6 columns):\n",
      " #   Column           Non-Null Count  Dtype \n",
      "---  ------           --------------  ----- \n",
      " 0   business_name    1100 non-null   object\n",
      " 1   author_name      1100 non-null   object\n",
      " 2   text             1100 non-null   object\n",
      " 3   photo            1100 non-null   object\n",
      " 4   rating           1100 non-null   int64 \n",
      " 5   rating_category  1100 non-null   object\n",
      "dtypes: int64(1), object(5)\n",
      "memory usage: 51.7+ KB\n",
      "None\n",
      "                     business_name    author_name  \\\n",
      "0  Haci'nin Yeri - Yigit Lokantasi    Gulsum Akar   \n",
      "1  Haci'nin Yeri - Yigit Lokantasi  Oguzhan Cetin   \n",
      "2  Haci'nin Yeri - Yigit Lokantasi     Yasin Kuyu   \n",
      "3  Haci'nin Yeri - Yigit Lokantasi     Orhan Kapu   \n",
      "4  Haci'nin Yeri - Yigit Lokantasi     Ozgur Sati   \n",
      "\n",
      "                                                text  \\\n",
      "0  We went to Marmaris with my wife for a holiday...   \n",
      "1  During my holiday in Marmaris we ate here to f...   \n",
      "2  Prices are very affordable. The menu in the ph...   \n",
      "3  Turkey's cheapest artisan restaurant and its f...   \n",
      "4  I don't know what you will look for in terms o...   \n",
      "\n",
      "                                               photo  rating  \\\n",
      "0         dataset/taste/hacinin_yeri_gulsum_akar.png       5   \n",
      "1        dataset/menu/hacinin_yeri_oguzhan_cetin.png       4   \n",
      "2  dataset/outdoor_atmosphere/hacinin_yeri_yasin_...       3   \n",
      "3  dataset/indoor_atmosphere/hacinin_yeri_orhan_k...       5   \n",
      "4           dataset/menu/hacinin_yeri_ozgur_sati.png       3   \n",
      "\n",
      "      rating_category  \n",
      "0               taste  \n",
      "1                menu  \n",
      "2  outdoor_atmosphere  \n",
      "3   indoor_atmosphere  \n",
      "4                menu  \n"
     ]
    }
   ],
   "source": [
    "reviews = pd.read_csv(\"reviews.csv\")\n",
    "print(\"Reviews Info:\")\n",
    "print(reviews.info())\n",
    "print(reviews.head())"
   ]
  },
  {
   "cell_type": "code",
   "execution_count": 9,
   "id": "a0b3d0f4",
   "metadata": {},
   "outputs": [],
   "source": [
    "reviews = reviews.drop_duplicates()"
   ]
  },
  {
   "cell_type": "code",
   "execution_count": 10,
   "id": "ae58c1be",
   "metadata": {},
   "outputs": [],
   "source": [
    "reviews = reviews.drop(columns= ['photo'])"
   ]
  },
  {
   "cell_type": "code",
   "execution_count": 11,
   "id": "e7289efb",
   "metadata": {},
   "outputs": [],
   "source": [
    "def clean_text(text):\n",
    "    \"\"\"Basic text cleaning: strip, collapse spaces.\"\"\"\n",
    "    text = str(text).strip()\n",
    "    text = re.sub(r'\\s+', ' ', text)  # collapse multiple spaces\n",
    "    return text\n",
    "for col in [\"business_name\", \"author_name\", \"text\", \"rating_category\"]:\n",
    "    reviews[col] = reviews[col].apply(clean_text)"
   ]
  },
  {
   "cell_type": "code",
   "execution_count": 12,
   "id": "ba211ff7",
   "metadata": {},
   "outputs": [
    {
     "data": {
      "text/plain": [
       "business_name\n",
       "Haci'nin Yeri - Yigit Lokantasi    11\n",
       "Rumeli Iskembecisi                 11\n",
       "Koco Restaurant                    11\n",
       "Ciya Sofrasi                       11\n",
       "Asucan Restaurant                  11\n",
       "                                   ..\n",
       "Kumrucu Omur                       11\n",
       "Sardalye                           11\n",
       "Sushico                            11\n",
       "Alsancak Firin                     11\n",
       "Miss Pizza                         11\n",
       "Name: count, Length: 100, dtype: int64"
      ]
     },
     "execution_count": 12,
     "metadata": {},
     "output_type": "execute_result"
    }
   ],
   "source": [
    "reviews['business_name'].value_counts()"
   ]
  },
  {
   "cell_type": "code",
   "execution_count": 13,
   "id": "670074df",
   "metadata": {},
   "outputs": [
    {
     "data": {
      "text/plain": [
       "array([5, 4, 3, 2, 1])"
      ]
     },
     "execution_count": 13,
     "metadata": {},
     "output_type": "execute_result"
    }
   ],
   "source": [
    "reviews['rating'].unique()"
   ]
  },
  {
   "cell_type": "code",
   "execution_count": 14,
   "id": "16b5d6f8",
   "metadata": {},
   "outputs": [
    {
     "data": {
      "text/plain": [
       "array(['taste', 'menu', 'outdoor_atmosphere', 'indoor_atmosphere'],\n",
       "      dtype=object)"
      ]
     },
     "execution_count": 14,
     "metadata": {},
     "output_type": "execute_result"
    }
   ],
   "source": [
    "reviews['rating_category'].unique()"
   ]
  },
  {
   "cell_type": "code",
   "execution_count": 15,
   "id": "2212106e",
   "metadata": {},
   "outputs": [],
   "source": [
    "reviews_cleaned = reviews.sort_values(by=['business_name', 'rating'], ascending=[True, True]).reset_index(drop=True)"
   ]
  },
  {
   "cell_type": "code",
   "execution_count": 16,
   "id": "ec34cbc4",
   "metadata": {},
   "outputs": [
    {
     "data": {
      "text/html": [
       "<div>\n",
       "<style scoped>\n",
       "    .dataframe tbody tr th:only-of-type {\n",
       "        vertical-align: middle;\n",
       "    }\n",
       "\n",
       "    .dataframe tbody tr th {\n",
       "        vertical-align: top;\n",
       "    }\n",
       "\n",
       "    .dataframe thead th {\n",
       "        text-align: right;\n",
       "    }\n",
       "</style>\n",
       "<table border=\"1\" class=\"dataframe\">\n",
       "  <thead>\n",
       "    <tr style=\"text-align: right;\">\n",
       "      <th></th>\n",
       "      <th>business_name</th>\n",
       "      <th>author_name</th>\n",
       "      <th>text</th>\n",
       "      <th>rating</th>\n",
       "      <th>rating_category</th>\n",
       "    </tr>\n",
       "  </thead>\n",
       "  <tbody>\n",
       "    <tr>\n",
       "      <th>0</th>\n",
       "      <td>Abidin Tantuni</td>\n",
       "      <td>Ugurcan Arbaz</td>\n",
       "      <td>It was too oily and the place had problems wit...</td>\n",
       "      <td>2</td>\n",
       "      <td>taste</td>\n",
       "    </tr>\n",
       "    <tr>\n",
       "      <th>1</th>\n",
       "      <td>Abidin Tantuni</td>\n",
       "      <td>Busra Uzun</td>\n",
       "      <td>It was too spicy on my first try; but after a ...</td>\n",
       "      <td>4</td>\n",
       "      <td>outdoor_atmosphere</td>\n",
       "    </tr>\n",
       "    <tr>\n",
       "      <th>2</th>\n",
       "      <td>Abidin Tantuni</td>\n",
       "      <td>Simge Sahin</td>\n",
       "      <td>The taste is good but not satisfying.</td>\n",
       "      <td>4</td>\n",
       "      <td>menu</td>\n",
       "    </tr>\n",
       "    <tr>\n",
       "      <th>3</th>\n",
       "      <td>Abidin Tantuni</td>\n",
       "      <td>Ali Simsek</td>\n",
       "      <td>Deliciousss!</td>\n",
       "      <td>4</td>\n",
       "      <td>taste</td>\n",
       "    </tr>\n",
       "    <tr>\n",
       "      <th>4</th>\n",
       "      <td>Abidin Tantuni</td>\n",
       "      <td>Erdal Dalgalar</td>\n",
       "      <td>One of the Most Beautiful Meat Tantuni Places....</td>\n",
       "      <td>4</td>\n",
       "      <td>indoor_atmosphere</td>\n",
       "    </tr>\n",
       "  </tbody>\n",
       "</table>\n",
       "</div>"
      ],
      "text/plain": [
       "    business_name     author_name  \\\n",
       "0  Abidin Tantuni   Ugurcan Arbaz   \n",
       "1  Abidin Tantuni      Busra Uzun   \n",
       "2  Abidin Tantuni     Simge Sahin   \n",
       "3  Abidin Tantuni      Ali Simsek   \n",
       "4  Abidin Tantuni  Erdal Dalgalar   \n",
       "\n",
       "                                                text  rating  \\\n",
       "0  It was too oily and the place had problems wit...       2   \n",
       "1  It was too spicy on my first try; but after a ...       4   \n",
       "2              The taste is good but not satisfying.       4   \n",
       "3                                       Deliciousss!       4   \n",
       "4  One of the Most Beautiful Meat Tantuni Places....       4   \n",
       "\n",
       "      rating_category  \n",
       "0               taste  \n",
       "1  outdoor_atmosphere  \n",
       "2                menu  \n",
       "3               taste  \n",
       "4   indoor_atmosphere  "
      ]
     },
     "execution_count": 16,
     "metadata": {},
     "output_type": "execute_result"
    }
   ],
   "source": [
    "reviews_cleaned.head()"
   ]
  },
  {
   "cell_type": "code",
   "execution_count": 17,
   "id": "14919354",
   "metadata": {},
   "outputs": [
    {
     "name": "stdout",
     "output_type": "stream",
     "text": [
      "\n",
      "Cleaned data saved to 'reviews_cleaned.csv'\n"
     ]
    }
   ],
   "source": [
    "reviews_cleaned.to_csv(\"reviews_cleaned.csv\", index=False)\n",
    "print(\"\\nCleaned data saved to 'reviews_cleaned.csv'\")"
   ]
  }
 ],
 "metadata": {
  "kernelspec": {
   "display_name": "base",
   "language": "python",
   "name": "python3"
  },
  "language_info": {
   "codemirror_mode": {
    "name": "ipython",
    "version": 3
   },
   "file_extension": ".py",
   "mimetype": "text/x-python",
   "name": "python",
   "nbconvert_exporter": "python",
   "pygments_lexer": "ipython3",
   "version": "3.12.7"
  }
 },
 "nbformat": 4,
 "nbformat_minor": 5
}
